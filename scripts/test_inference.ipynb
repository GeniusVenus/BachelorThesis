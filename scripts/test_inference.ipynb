{
 "cells": [
  {
   "cell_type": "code",
   "execution_count": 1,
   "id": "7e219e84d5192f81",
   "metadata": {
    "ExecuteTime": {
     "end_time": "2025-02-22T15:39:17.467461Z",
     "start_time": "2025-02-22T15:39:11.888287Z"
    }
   },
   "outputs": [],
   "source": [
    "import torch\n",
    "from src.models import SegmentationModel\n",
    "from src.utils.config import load_config\n",
    "from src.utils.checkpoint import load_checkpoint\n",
    "\n",
    "config = load_config('../configs/inference/base_config.yml')\n",
    "device = torch.device('cuda' if torch.cuda.is_available() else 'cpu')"
   ]
  },
  {
   "cell_type": "code",
   "execution_count": 2,
   "id": "587c79d66a2b3c6a",
   "metadata": {
    "ExecuteTime": {
     "end_time": "2025-02-22T15:39:18.335828Z",
     "start_time": "2025-02-22T15:39:17.474442Z"
    }
   },
   "outputs": [],
   "source": [
    "model = SegmentationModel.get_model(config['model']['name'], **config['model'].get('params', {})).to(device)"
   ]
  },
  {
   "cell_type": "code",
   "execution_count": 3,
   "id": "f0ff5b00ccad346b",
   "metadata": {
    "ExecuteTime": {
     "end_time": "2025-02-22T15:39:19.041693Z",
     "start_time": "2025-02-22T15:39:18.517816Z"
    }
   },
   "outputs": [
    {
     "name": "stdout",
     "output_type": "stream",
     "text": [
      "=> Loading checkpoint '../checkpoints/focal_resnet50_deeplabv3plus.pth'\n"
     ]
    }
   ],
   "source": [
    "load_checkpoint(model, config['inference']['checkpoint'])"
   ]
  },
  {
   "cell_type": "code",
   "execution_count": null,
   "id": "51a10a282620d108",
   "metadata": {
    "ExecuteTime": {
     "end_time": "2025-02-22T15:39:19.071665Z",
     "start_time": "2025-02-22T15:39:19.058567Z"
    }
   },
   "outputs": [],
   "source": []
  }
 ],
 "metadata": {
  "kernelspec": {
   "display_name": "Python 3 (ipykernel)",
   "language": "python",
   "name": "python3"
  }
 },
 "nbformat": 5,
 "nbformat_minor": 9
}
